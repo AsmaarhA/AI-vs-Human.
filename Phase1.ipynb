{
 "cells": [
  {
   "cell_type": "code",
   "execution_count": 5,
   "id": "da69c9cd-7035-400b-bbc8-9dd0ba587819",
   "metadata": {},
   "outputs": [],
   "source": [
    "from datasets import load_dataset\n",
    "import pandas as pd\n",
    "\n",
    "# Load the complete dataset\n",
    "dataset = load_dataset(\"KFUPM-JRCAI/arabic-generated-abstracts\")"
   ]
  },
  {
   "cell_type": "code",
   "execution_count": 2,
   "id": "9c90fd40-dd6a-433e-aabf-33d9044aedb6",
   "metadata": {},
   "outputs": [
    {
     "name": "stdout",
     "output_type": "stream",
     "text": [
      "DatasetDict({\n",
      "    by_polishing: Dataset({\n",
      "        features: ['original_abstract', 'allam_generated_abstract', 'jais_generated_abstract', 'llama_generated_abstract', 'openai_generated_abstract'],\n",
      "        num_rows: 2851\n",
      "    })\n",
      "    from_title: Dataset({\n",
      "        features: ['original_abstract', 'allam_generated_abstract', 'jais_generated_abstract', 'llama_generated_abstract', 'openai_generated_abstract'],\n",
      "        num_rows: 2963\n",
      "    })\n",
      "    from_title_and_content: Dataset({\n",
      "        features: ['original_abstract', 'allam_generated_abstract', 'jais_generated_abstract', 'llama_generated_abstract', 'openai_generated_abstract'],\n",
      "        num_rows: 2574\n",
      "    })\n",
      "})\n"
     ]
    }
   ],
   "source": [
    "print(dataset)"
   ]
  },
  {
   "cell_type": "code",
   "execution_count": 7,
   "id": "387288bb-f846-499c-8173-bf909eb6e80a",
   "metadata": {},
   "outputs": [],
   "source": [
    "df = pd.DataFrame(dataset[\"by_polishing\"])"
   ]
  },
  {
   "cell_type": "code",
   "execution_count": 13,
   "id": "b9e49cf7-c62e-4677-b854-a9b2bf2025e6",
   "metadata": {},
   "outputs": [],
   "source": [
    "df_human = pd.DataFrame({\"text\": df[\"original_abstract\"], \"label\": \"human\"})\n",
    "df_ai = pd.DataFrame({\"text\": df[\"openai_generated_abstract\"], \"label\": \"AI\"})\n",
    "df_combined = pd.concat([df_human, df_ai], ignore_index=True)"
   ]
  },
  {
   "cell_type": "code",
   "execution_count": 14,
   "id": "b01f1d32-8457-4763-9508-6b6cbce4673f",
   "metadata": {},
   "outputs": [
    {
     "name": "stdout",
     "output_type": "stream",
     "text": [
      "label\n",
      "human    2851\n",
      "AI       2851\n",
      "Name: count, dtype: int64\n"
     ]
    }
   ],
   "source": [
    "print(df_combined[\"label\"].value_counts())"
   ]
  },
  {
   "cell_type": "code",
   "execution_count": 16,
   "id": "9db56913-41cc-4773-9ce4-08bd9e595d0c",
   "metadata": {},
   "outputs": [
    {
     "name": "stdout",
     "output_type": "stream",
     "text": [
      "text     0\n",
      "label    0\n",
      "dtype: int64\n",
      "عدد الصفوف المكررة: 0\n"
     ]
    }
   ],
   "source": [
    "print(df_combined.isnull().sum())\n",
    "print(\"عدد الصفوف المكررة:\", df_combined.duplicated().sum())"
   ]
  },
  {
   "cell_type": "code",
   "execution_count": null,
   "id": "dce005a1-9ea6-4177-8de9-bb523c9077be",
   "metadata": {},
   "outputs": [],
   "source": []
  }
 ],
 "metadata": {
  "kernelspec": {
   "display_name": "Python [conda env:base] *",
   "language": "python",
   "name": "conda-base-py"
  },
  "language_info": {
   "codemirror_mode": {
    "name": "ipython",
    "version": 3
   },
   "file_extension": ".py",
   "mimetype": "text/x-python",
   "name": "python",
   "nbconvert_exporter": "python",
   "pygments_lexer": "ipython3",
   "version": "3.13.5"
  }
 },
 "nbformat": 4,
 "nbformat_minor": 5
}
