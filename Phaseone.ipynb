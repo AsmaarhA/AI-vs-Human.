{
 "cells": [
  {
   "cell_type": "markdown",
   "id": "9891dcf1-1fa5-46af-b335-c25b76883558",
   "metadata": {},
   "source": [
    "Import Libaries Phase one"
   ]
  },
  {
   "cell_type": "code",
   "execution_count": null,
   "id": "469cc7e7-18ad-424f-841e-87d450cd01a7",
   "metadata": {},
   "outputs": [],
   "source": [
    "import pandas as pd\n",
    "import numpy as np\n",
    "import matplotlib.pyplot as plt\n",
    "import seaborn as sns #for ploting  \n",
    "from datasets import load_dataset"
   ]
  },
  {
   "cell_type": "markdown",
   "id": "0dcb3439-6e44-43ae-b6d2-f117fea46a07",
   "metadata": {},
   "source": [
    "Load dataset from Hugging Face"
   ]
  },
  {
   "cell_type": "code",
   "execution_count": 3,
   "id": "c30d5f80-2344-49a5-9b69-d1fb1cddfda5",
   "metadata": {},
   "outputs": [],
   "source": [
    "dataset = load_dataset(\"KFUPM-JRCAI/arabic-generated-abstracts\")"
   ]
  },
  {
   "cell_type": "code",
   "execution_count": 5,
   "id": "28aba05d-d70d-4503-ad9b-09d319ed1a09",
   "metadata": {},
   "outputs": [
    {
     "name": "stdout",
     "output_type": "stream",
     "text": [
      "DatasetDict({\n",
      "    by_polishing: Dataset({\n",
      "        features: ['original_abstract', 'allam_generated_abstract', 'jais_generated_abstract', 'llama_generated_abstract', 'openai_generated_abstract'],\n",
      "        num_rows: 2851\n",
      "    })\n",
      "    from_title: Dataset({\n",
      "        features: ['original_abstract', 'allam_generated_abstract', 'jais_generated_abstract', 'llama_generated_abstract', 'openai_generated_abstract'],\n",
      "        num_rows: 2963\n",
      "    })\n",
      "    from_title_and_content: Dataset({\n",
      "        features: ['original_abstract', 'allam_generated_abstract', 'jais_generated_abstract', 'llama_generated_abstract', 'openai_generated_abstract'],\n",
      "        num_rows: 2574\n",
      "    })\n",
      "})\n"
     ]
    }
   ],
   "source": [
    "print(dataset)"
   ]
  },
  {
   "cell_type": "markdown",
   "id": "6e9e4e3e-9c03-41f0-97d0-3d7e259ed9c1",
   "metadata": {},
   "source": [
    "Prepare Subset Function "
   ]
  },
  {
   "cell_type": "code",
   "execution_count": 14,
   "id": "ae846acd-26c9-4f02-a855-958a9252f956",
   "metadata": {},
   "outputs": [
    {
     "name": "stdout",
     "output_type": "stream",
     "text": [
      " Function prepare_subset()is Defined\n"
     ]
    }
   ],
   "source": [
    "def prepare_subset(name):\n",
    "    df = dataset[name].to_pandas()\n",
    "    \n",
    "    # Human texts\n",
    "    df_human = pd.DataFrame({\n",
    "        \"text\": df[\"original_abstract\"],\n",
    "        \"label\": \"human\",\n",
    "        \"subset\": name\n",
    "    })\n",
    "    \n",
    "    # AI texts (from 4 models: allam, jais, llama, openai)\n",
    "    ai_texts = pd.concat([\n",
    "        pd.DataFrame({\"text\": df[\"allam_generated_abstract\"], \"label\": \"AI\", \"subset\": name}),\n",
    "        pd.DataFrame({\"text\": df[\"jais_generated_abstract\"], \"label\": \"AI\", \"subset\": name}),\n",
    "        pd.DataFrame({\"text\": df[\"llama_generated_abstract\"], \"label\": \"AI\", \"subset\": name}),\n",
    "        pd.DataFrame({\"text\": df[\"openai_generated_abstract\"], \"label\": \"AI\", \"subset\": name}),\n",
    "    ], ignore_index=True)\n",
    "    \n",
    "    # Merge Human + AI\n",
    "    df_combined = pd.concat([df_human, ai_texts], ignore_index=True)\n",
    "    # Confirmation message\n",
    "    return df_combined\n",
    "print(\" Function prepare_subset()is Defined\")"
   ]
  },
  {
   "cell_type": "markdown",
   "id": "57b532e6-0183-410e-a94a-eda2b16f6865",
   "metadata": {},
   "source": [
    "Data Exploration"
   ]
  },
  {
   "cell_type": "code",
   "execution_count": 27,
   "id": "63268598-e7b5-42d2-83ef-01dcbd20a52d",
   "metadata": {},
   "outputs": [
    {
     "name": "stdout",
     "output_type": "stream",
     "text": [
      " Function explore_subset() is ready to use\n"
     ]
    }
   ],
   "source": [
    "def explore_subset(df, name):\n",
    "    print(f\"\\n📊 Subset: {name}\")\n",
    "    print(\"Total rows:\", df.shape[0])\n",
    "    \n",
    "    # Count Human vs AI\n",
    "    human_count = (df[\"label\"] == \"human\").sum()\n",
    "    ai_count = (df[\"label\"] == \"AI\").sum()\n",
    "    print(\"Human texts:\", human_count)\n",
    "    print(\"AI texts:\", ai_count)\n",
    "    \n",
    "    # First 5 rows\n",
    "    print(\"\\n📝 First 5 rows:\")\n",
    "    print(df.head())\n",
    "    \n",
    "    # DataFrame info\n",
    "    print(\"\\nℹ️ DataFrame info:\")\n",
    "    print(df.info())\n",
    "    \n",
    "    # Descriptive statistics\n",
    "    print(\"\\n📊 Descriptive statistics:\")\n",
    "    print(df.describe(include=\"all\"))\n",
    "    \n",
    "    # Missing values\n",
    "    print(\"\\n❓ Missing values:\")\n",
    "    print(df.isnull().sum())\n",
    "    \n",
    "    # Duplicates\n",
    "    print(\"\\n🔁 Number of duplicate rows:\", df.duplicated().sum())\n",
    "\n",
    "print(\" Function explore_subset() is ready to use\")"
   ]
  },
  {
   "cell_type": "markdown",
   "id": "83a74dc7-77ff-49a3-9742-902005ce9e34",
   "metadata": {},
   "source": [
    "Process Subsets"
   ]
  },
  {
   "cell_type": "code",
   "execution_count": 28,
   "id": "85bc33b4-f78f-497d-bec8-e10c43f2dc1e",
   "metadata": {},
   "outputs": [
    {
     "name": "stdout",
     "output_type": "stream",
     "text": [
      "\n",
      "📊 Subset: by_polishing\n",
      "Total rows: 14255\n",
      "Human texts: 2851\n",
      "AI texts: 11404\n",
      "\n",
      "📝 First 5 rows:\n",
      "                                                text  label        subset\n",
      "0  كثيرا ما ارتبطت المصادر التاريخية في الأندلس خ...  human  by_polishing\n",
      "1  يعد العامل الثقافي احد ابرز الاسباب التي يعزى ...  human  by_polishing\n",
      "2  شكلت تلك الجهود والمساعي الرائدة التي قام بها ...  human  by_polishing\n",
      "3  يقوم المقال على اشكالية الضرائب الغير شرعية في...  human  by_polishing\n",
      "4  تتفق المصادر التاريخية المتوفرة حول موضوع تطور...  human  by_polishing\n",
      "\n",
      "ℹ️ DataFrame info:\n",
      "<class 'pandas.core.frame.DataFrame'>\n",
      "RangeIndex: 14255 entries, 0 to 14254\n",
      "Data columns (total 3 columns):\n",
      " #   Column  Non-Null Count  Dtype \n",
      "---  ------  --------------  ----- \n",
      " 0   text    14255 non-null  object\n",
      " 1   label   14255 non-null  object\n",
      " 2   subset  14255 non-null  object\n",
      "dtypes: object(3)\n",
      "memory usage: 334.2+ KB\n",
      "None\n",
      "\n",
      "📊 Descriptive statistics:\n",
      "                                                     text  label        subset\n",
      "count                                               14255  14255         14255\n",
      "unique                                              14239      2             1\n",
      "top     ظهرت روح التصوف في العهد العثماني في العديد من...     AI  by_polishing\n",
      "freq                                                    2  11404         14255\n",
      "\n",
      "❓ Missing values:\n",
      "text      0\n",
      "label     0\n",
      "subset    0\n",
      "dtype: int64\n",
      "\n",
      "🔁 Number of duplicate rows: 0\n",
      "\n",
      "📊 Subset: from_title\n",
      "Total rows: 14815\n",
      "Human texts: 2963\n",
      "AI texts: 11852\n",
      "\n",
      "📝 First 5 rows:\n",
      "                                                text  label      subset\n",
      "0  كثيرا ما ارتبطت المصادر التاريخية في الأندلس خ...  human  from_title\n",
      "1  يعد العامل الثقافي احد ابرز الاسباب التي يعزى ...  human  from_title\n",
      "2  يقوم المقال على اشكالية الضرائب الغير شرعية في...  human  from_title\n",
      "3  تتفق المصادر التاريخية المتوفرة حول موضوع تطور...  human  from_title\n",
      "4  تعددت صور الحياة الثقافية و الفكرية و الأدبية ...  human  from_title\n",
      "\n",
      "ℹ️ DataFrame info:\n",
      "<class 'pandas.core.frame.DataFrame'>\n",
      "RangeIndex: 14815 entries, 0 to 14814\n",
      "Data columns (total 3 columns):\n",
      " #   Column  Non-Null Count  Dtype \n",
      "---  ------  --------------  ----- \n",
      " 0   text    14815 non-null  object\n",
      " 1   label   14815 non-null  object\n",
      " 2   subset  14815 non-null  object\n",
      "dtypes: object(3)\n",
      "memory usage: 347.4+ KB\n",
      "None\n",
      "\n",
      "📊 Descriptive statistics:\n",
      "                                                     text  label      subset\n",
      "count                                               14815  14815       14815\n",
      "unique                                              14815      2           1\n",
      "top     تهدف هذه الدراسة إلى استكشاف القيم الصوتية الم...     AI  from_title\n",
      "freq                                                    1  11852       14815\n",
      "\n",
      "❓ Missing values:\n",
      "text      0\n",
      "label     0\n",
      "subset    0\n",
      "dtype: int64\n",
      "\n",
      "🔁 Number of duplicate rows: 0\n",
      "\n",
      "📊 Subset: from_title_and_content\n",
      "Total rows: 12870\n",
      "Human texts: 2574\n",
      "AI texts: 10296\n",
      "\n",
      "📝 First 5 rows:\n",
      "                                                text  label  \\\n",
      "0  كثيرا ما ارتبطت المصادر التاريخية في الأندلس خ...  human   \n",
      "1  يعد العامل الثقافي احد ابرز الاسباب التي يعزى ...  human   \n",
      "2  شكلت تلك الجهود والمساعي الرائدة التي قام بها ...  human   \n",
      "3  يقوم المقال على اشكالية الضرائب الغير شرعية في...  human   \n",
      "4  تعددت صور الحياة الثقافية و الفكرية و الأدبية ...  human   \n",
      "\n",
      "                   subset  \n",
      "0  from_title_and_content  \n",
      "1  from_title_and_content  \n",
      "2  from_title_and_content  \n",
      "3  from_title_and_content  \n",
      "4  from_title_and_content  \n",
      "\n",
      "ℹ️ DataFrame info:\n",
      "<class 'pandas.core.frame.DataFrame'>\n",
      "RangeIndex: 12870 entries, 0 to 12869\n",
      "Data columns (total 3 columns):\n",
      " #   Column  Non-Null Count  Dtype \n",
      "---  ------  --------------  ----- \n",
      " 0   text    12870 non-null  object\n",
      " 1   label   12870 non-null  object\n",
      " 2   subset  12870 non-null  object\n",
      "dtypes: object(3)\n",
      "memory usage: 301.8+ KB\n",
      "None\n",
      "\n",
      "📊 Descriptive statistics:\n",
      "                                                     text  label  \\\n",
      "count                                               12870  12870   \n",
      "unique                                              12867      2   \n",
      "top     ، ، ، ، ، ، ، ، ، ، ، ، ، ، ، ، ، ، ، ، ، ، ، ...     AI   \n",
      "freq                                                    4  10296   \n",
      "\n",
      "                        subset  \n",
      "count                    12870  \n",
      "unique                       1  \n",
      "top     from_title_and_content  \n",
      "freq                     12870  \n",
      "\n",
      "❓ Missing values:\n",
      "text      0\n",
      "label     0\n",
      "subset    0\n",
      "dtype: int64\n",
      "\n",
      "🔁 Number of duplicate rows: 3\n"
     ]
    }
   ],
   "source": [
    "df_by_polishing = prepare_subset(\"by_polishing\")\n",
    "explore_subset(df_by_polishing, \"by_polishing\")\n",
    "\n",
    "df_from_title = prepare_subset(\"from_title\")\n",
    "explore_subset(df_from_title, \"from_title\")\n",
    "\n",
    "df_from_title_and_content = prepare_subset(\"from_title_and_content\")\n",
    "explore_subset(df_from_title_and_content, \"from_title_and_content\")"
   ]
  },
  {
   "cell_type": "markdown",
   "id": "eb2cb0a8-2f9d-4b2a-930c-4c6a954f394a",
   "metadata": {},
   "source": [
    "Marge all Data"
   ]
  },
  {
   "cell_type": "code",
   "execution_count": 29,
   "id": "1a51c695-4acd-4087-8116-8843adb16f8b",
   "metadata": {},
   "outputs": [
    {
     "name": "stdout",
     "output_type": "stream",
     "text": [
      "\n",
      "✅ Final merged DataFrame\n",
      "Total texts: 41940\n",
      "label\n",
      "AI       33552\n",
      "human     8388\n",
      "Name: count, dtype: int64\n",
      "Subsets distribution: subset\n",
      "from_title                14815\n",
      "by_polishing              14255\n",
      "from_title_and_content    12870\n",
      "Name: count, dtype: int64\n"
     ]
    }
   ],
   "source": [
    "df_all = pd.concat([df_by_polishing, df_from_title, df_from_title_and_content], ignore_index=True)\n",
    "\n",
    "print(\"\\n✅ Final merged DataFrame\")\n",
    "print(\"Total texts:\", df_all.shape[0])\n",
    "print(df_all[\"label\"].value_counts())\n",
    "print(\"Subsets distribution:\", df_all[\"subset\"].value_counts())"
   ]
  },
  {
   "cell_type": "code",
   "execution_count": null,
   "id": "b93962c7-ccb9-4080-8094-89e5da9c49c0",
   "metadata": {},
   "outputs": [],
   "source": []
  }
 ],
 "metadata": {
  "kernelspec": {
   "display_name": "Python [conda env:base] *",
   "language": "python",
   "name": "conda-base-py"
  },
  "language_info": {
   "codemirror_mode": {
    "name": "ipython",
    "version": 3
   },
   "file_extension": ".py",
   "mimetype": "text/x-python",
   "name": "python",
   "nbconvert_exporter": "python",
   "pygments_lexer": "ipython3",
   "version": "3.13.5"
  }
 },
 "nbformat": 4,
 "nbformat_minor": 5
}
